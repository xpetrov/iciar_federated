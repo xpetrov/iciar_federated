{
 "cells": [
  {
   "cell_type": "code",
   "execution_count": 1,
   "metadata": {},
   "outputs": [],
   "source": [
    "import numpy as np\n",
    "import tensorflow_addons as tfa"
   ]
  },
  {
   "cell_type": "code",
   "execution_count": 14,
   "metadata": {},
   "outputs": [
    {
     "name": "stdout",
     "output_type": "stream",
     "text": [
      "0.75 1.0\n"
     ]
    }
   ],
   "source": [
    "f1_macro = tfa.metrics.F1Score(num_classes=4, average='macro')\n",
    "f1_weighted = tfa.metrics.F1Score(num_classes=4, average='weighted')\n",
    "\n",
    "y_true = np.array([[1, 0, 0, 0],\n",
    "                   [0, 1, 0, 0],\n",
    "                   [0, 0, 1, 0],\n",
    "                   [0, 1, 0, 0]], np.int32)\n",
    "y_pred = np.array([[0.5, 0.3, 0.1, 0.1],\n",
    "                   [0.2, 0.6, 0.1, 0.1],\n",
    "                   [0.1, 0.1, 0.7, 0.1],\n",
    "                   [0.0, 0.8, 0.0, 0.2]], np.float32)\n",
    "\n",
    "f1_macro.update_state(y_true, y_pred)\n",
    "macro_result = f1_macro.result().numpy()\n",
    "\n",
    "f1_weighted.update_state(y_true, y_pred)\n",
    "weighted_result = f1_weighted.result().numpy()\n",
    "\n",
    "print(macro_result, weighted_result)"
   ]
  }
 ],
 "metadata": {
  "interpreter": {
   "hash": "1274a1e9293c1cfa21237fa053a40d4e391f74b92eec2f8970777e851ccda521"
  },
  "kernelspec": {
   "display_name": "Python 3.9.5 64-bit ('venv': venv)",
   "language": "python",
   "name": "python3"
  },
  "language_info": {
   "codemirror_mode": {
    "name": "ipython",
    "version": 3
   },
   "file_extension": ".py",
   "mimetype": "text/x-python",
   "name": "python",
   "nbconvert_exporter": "python",
   "pygments_lexer": "ipython3",
   "version": "3.9.5"
  },
  "orig_nbformat": 4
 },
 "nbformat": 4,
 "nbformat_minor": 2
}
