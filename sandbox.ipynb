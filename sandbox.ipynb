{
 "cells": [
  {
   "cell_type": "code",
   "execution_count": 1,
   "metadata": {},
   "outputs": [],
   "source": [
    "import numpy as np\n",
    "import tensorflow_addons as tfa\n",
    "import wandb"
   ]
  },
  {
   "cell_type": "code",
   "execution_count": 2,
   "metadata": {},
   "outputs": [
    {
     "name": "stderr",
     "output_type": "stream",
     "text": [
      "Failed to detect the name of this notebook, you can set it manually with the WANDB_NOTEBOOK_NAME environment variable to enable code saving.\n",
      "\u001b[34m\u001b[1mwandb\u001b[0m: Currently logged in as: \u001b[33mxpetrov\u001b[0m (use `wandb login --relogin` to force relogin)\n",
      "d:\\xpetrov\\src\\venv\\lib\\site-packages\\IPython\\html.py:14: ShimWarning: The `IPython.html` package has been deprecated since IPython 4.0. You should import from `notebook` instead. `IPython.html.widgets` has moved to `ipywidgets`.\n",
      "  \"`IPython.html.widgets` has moved to `ipywidgets`.\", ShimWarning)\n",
      "\u001b[34m\u001b[1mwandb\u001b[0m: wandb version 0.12.11 is available!  To upgrade, please run:\n",
      "\u001b[34m\u001b[1mwandb\u001b[0m:  $ pip install wandb --upgrade\n"
     ]
    },
    {
     "data": {
      "text/html": [
       "\n",
       "                    Syncing run <strong><a href=\"https://wandb.ai/xpetrov/balanced/runs/3m6erygb\" target=\"_blank\">swept-sun-1</a></strong> to <a href=\"https://wandb.ai/xpetrov/balanced\" target=\"_blank\">Weights & Biases</a> (<a href=\"https://docs.wandb.com/integrations/jupyter.html\" target=\"_blank\">docs</a>).<br/>\n",
       "\n",
       "                "
      ],
      "text/plain": [
       "<IPython.core.display.HTML object>"
      ]
     },
     "metadata": {},
     "output_type": "display_data"
    }
   ],
   "source": [
    "wandb_key='70fc9e3697c791bb8e0bd252af2721808872bce9'\n",
    "#wandb.login(key=wandb_key)\n",
    "wandb.init(project='balanced',entity='xpetrov')\n",
    "\n",
    "wandb.config = {\"learning_rate\": 0.001,\"epochs\": 100,\"batch_size\": 128}\n",
    "\n",
    "wandb.log({\"loss\": 10})"
   ]
  },
  {
   "cell_type": "code",
   "execution_count": 14,
   "metadata": {},
   "outputs": [
    {
     "name": "stdout",
     "output_type": "stream",
     "text": [
      "0.75 1.0\n"
     ]
    }
   ],
   "source": [
    "f1_macro = tfa.metrics.F1Score(num_classes=4, average='macro')\n",
    "f1_weighted = tfa.metrics.F1Score(num_classes=4, average='weighted')\n",
    "\n",
    "y_true = np.array([[1, 0, 0, 0],\n",
    "                   [0, 1, 0, 0],\n",
    "                   [0, 0, 1, 0],\n",
    "                   [0, 1, 0, 0]], np.int32)\n",
    "y_pred = np.array([[0.5, 0.3, 0.1, 0.1],\n",
    "                   [0.2, 0.6, 0.1, 0.1],\n",
    "                   [0.1, 0.1, 0.7, 0.1],\n",
    "                   [0.0, 0.8, 0.0, 0.2]], np.float32)\n",
    "\n",
    "f1_macro.update_state(y_true, y_pred)\n",
    "macro_result = f1_macro.result().numpy()\n",
    "\n",
    "f1_weighted.update_state(y_true, y_pred)\n",
    "weighted_result = f1_weighted.result().numpy()\n",
    "\n",
    "print(macro_result, weighted_result)"
   ]
  }
 ],
 "metadata": {
  "interpreter": {
   "hash": "1274a1e9293c1cfa21237fa053a40d4e391f74b92eec2f8970777e851ccda521"
  },
  "kernelspec": {
   "display_name": "Python 3.9.5 64-bit ('venv': venv)",
   "language": "python",
   "name": "python3"
  },
  "language_info": {
   "codemirror_mode": {
    "name": "ipython",
    "version": 3
   },
   "file_extension": ".py",
   "mimetype": "text/x-python",
   "name": "python",
   "nbconvert_exporter": "python",
   "pygments_lexer": "ipython3",
   "version": "3.7.9"
  },
  "orig_nbformat": 4
 },
 "nbformat": 4,
 "nbformat_minor": 2
}
